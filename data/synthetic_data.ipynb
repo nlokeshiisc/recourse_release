{
 "cells": [
  {
   "cell_type": "markdown",
   "metadata": {},
   "source": [
    "## Synthetic dataset generation"
   ]
  },
  {
   "cell_type": "code",
   "execution_count": 2,
   "metadata": {},
   "outputs": [],
   "source": [
    "num_classes = 4\n",
    "num_z = 250\n",
    "mu =  [[0.5,-1,0.5,-0.5,0,-0.5],\n",
    "        [0.5,1,0.5,-0.5,0,-0.5],\n",
    "        [-0.5,0,-0.5,0.5,1,0.5],\n",
    "        [-0.5,0,-0.5,0.5,-1,0.5]]\n",
    "\n",
    "sig = [0.25,0.1,0.25,0.25,0.1,0.25]\n",
    "\n",
    "        \n"
   ]
  },
  {
   "cell_type": "code",
   "execution_count": 3,
   "metadata": {},
   "outputs": [],
   "source": [
    "import numpy as np\n",
    "z = []\n",
    "\n",
    "for idx,mui in enumerate(mu):\n",
    "    sigi = sig[idx]\n",
    "    zi = np.random.normal(mui[0],sigi,num_z).reshape(num_z,1)\n",
    "    for i in mui[1:]:\n",
    "        zi = np.hstack([zi,np.random.normal(i,sigi,num_z).reshape(num_z,1)])\n",
    "    z.append(zi)  \n",
    "\n"
   ]
  },
  {
   "cell_type": "code",
   "execution_count": 4,
   "metadata": {},
   "outputs": [],
   "source": [
    "import itertools\n",
    "\n",
    "beta_list = list(set(itertools.permutations([1,1,1,0,0,0])))"
   ]
  },
  {
   "cell_type": "code",
   "execution_count": 5,
   "metadata": {},
   "outputs": [
    {
     "name": "stdout",
     "output_type": "stream",
     "text": [
      "[[0, 1, 1, 0, 0, 1], [1, 1, 1, 0, 0, 0], [1, 0, 1, 0, 1, 0], [0, 0, 0, 1, 1, 1], [1, 1, 0, 1, 0, 0], [0, 1, 0, 1, 0, 1], [1, 1, 0, 0, 0, 1], [1, 0, 0, 0, 1, 1], [0, 0, 1, 0, 1, 1], [1, 0, 0, 1, 1, 0], [0, 1, 1, 1, 0, 0], [0, 0, 1, 1, 1, 0]]\n"
     ]
    }
   ],
   "source": [
    "beta_all = []\n",
    "for beta in beta_list:\n",
    "    if beta[1] != 1 or beta[4] != 1 :\n",
    "        if beta in [(0, 0, 1, 1, 0, 1),(1, 0, 0, 1, 0, 1),(1, 0, 1, 1, 0, 0),(1, 0, 1, 0, 0, 1)]:\n",
    "            continue\n",
    "\n",
    "        beta_all.append(list(beta))\n",
    "print(beta_all)\n",
    "#beta_all = beta_list"
   ]
  },
  {
   "cell_type": "code",
   "execution_count": 41,
   "metadata": {},
   "outputs": [],
   "source": [
    "def get_tuple(z,beta,y,ins):\n",
    "    x = np.multiply(z,beta)\n",
    "    instance = ins\n",
    "    siblings = [(ins//6)*6+i for i in range(6)]\n",
    "    y = y\n",
    "    beta = list(beta)\n",
    "    is_ideal = True if (y in [0,1] and beta[1]==1) or (y in [2,3] and beta[4]==1) else False\n",
    "    return [x,z,beta,y,instance,siblings,is_ideal]\n",
    "\n",
    "\n",
    "\n",
    "\n",
    "\n",
    "    "
   ]
  },
  {
   "cell_type": "code",
   "execution_count": 42,
   "metadata": {},
   "outputs": [],
   "source": [
    "import random\n",
    "data_train = []\n",
    "ins = -1\n",
    "for idx,zi in enumerate(z):\n",
    "    for zi_ins in zi:\n",
    "        ins += 1\n",
    "        p = random.uniform(0,1)\n",
    "        # if p<0.8:\n",
    "        #     data_train.append(get_tuple(zi_ins,[1,0,1,0],idx,ins))\n",
    "        #     betas = random.sample(beta_all[1:],2)\n",
    "        #     data_train.append(get_tuple(zi_ins,betas[0],idx,ins))\n",
    "        #     data_train.append(get_tuple(zi_ins,betas[1],idx,ins))\n",
    "            \n",
    "        # else:\n",
    "        betas = random.sample(beta_all,6)\n",
    "        for i in range(6):\n",
    "            data_train.append(get_tuple(zi_ins,betas[i],idx,ins))\n",
    "            \n",
    "\n"
   ]
  },
  {
   "cell_type": "code",
   "execution_count": 43,
   "metadata": {},
   "outputs": [
    {
     "data": {
      "text/plain": [
       "6000"
      ]
     },
     "execution_count": 43,
     "metadata": {},
     "output_type": "execute_result"
    }
   ],
   "source": [
    "len(data_train)"
   ]
  },
  {
   "cell_type": "code",
   "execution_count": 44,
   "metadata": {},
   "outputs": [
    {
     "data": {
      "text/plain": [
       "[array([ 0.        , -1.21474505,  0.        , -0.46609492, -0.        ,\n",
       "        -0.34806148]),\n",
       " array([ 0.04956939, -1.21474505,  0.70196772, -0.46609492, -0.00323539,\n",
       "        -0.34806148]),\n",
       " [0, 1, 0, 1, 0, 1],\n",
       " 0,\n",
       " 0,\n",
       " [0, 1, 2, 3, 4, 5],\n",
       " True]"
      ]
     },
     "execution_count": 44,
     "metadata": {},
     "output_type": "execute_result"
    }
   ],
   "source": [
    "data_train[0]"
   ]
  },
  {
   "cell_type": "code",
   "execution_count": 45,
   "metadata": {},
   "outputs": [],
   "source": [
    "import numpy as np\n",
    "z = []\n",
    "num_z = 50\n",
    "for idx,mui in enumerate(mu):\n",
    "    sigi = sig[idx]\n",
    "    zi = np.random.normal(mui[0],sigi,num_z).reshape(num_z,1)\n",
    "    for i in mui[1:]:\n",
    "        zi = np.hstack([zi,np.random.normal(i,sigi,num_z).reshape(num_z,1)])\n",
    "    z.append(zi)  \n",
    "\n"
   ]
  },
  {
   "cell_type": "code",
   "execution_count": 46,
   "metadata": {},
   "outputs": [],
   "source": [
    "import random\n",
    "data_test = []\n",
    "ins = -1\n",
    "for idx,zi in enumerate(z):\n",
    "    for zi_ins in zi:\n",
    "        ins += 1\n",
    "        p = random.uniform(0,1)\n",
    "        betas = random.sample(beta_all,4)\n",
    "        for i in range(4):\n",
    "            data_test.append(get_tuple(zi_ins,betas[i],idx,ins))\n",
    "            \n",
    "\n"
   ]
  },
  {
   "cell_type": "code",
   "execution_count": 47,
   "metadata": {},
   "outputs": [
    {
     "data": {
      "text/plain": [
       "800"
      ]
     },
     "execution_count": 47,
     "metadata": {},
     "output_type": "execute_result"
    }
   ],
   "source": [
    "len(data_test)"
   ]
  },
  {
   "cell_type": "code",
   "execution_count": 48,
   "metadata": {},
   "outputs": [
    {
     "data": {
      "text/plain": [
       "3031"
      ]
     },
     "execution_count": 48,
     "metadata": {},
     "output_type": "execute_result"
    }
   ],
   "source": [
    "sum([i[6] for i in data_train])"
   ]
  },
  {
   "cell_type": "code",
   "execution_count": 49,
   "metadata": {},
   "outputs": [],
   "source": [
    "import pickle\n",
    "with open('training_synthetic.pkl',\"wb\") as file:\n",
    "         pickle.dump(data_train,file)\n",
    "with open('testing_synthetic.pkl',\"wb\") as file:\n",
    "        pickle.dump(data_test,file)\n"
   ]
  },
  {
   "cell_type": "code",
   "execution_count": null,
   "metadata": {},
   "outputs": [],
   "source": []
  }
 ],
 "metadata": {
  "interpreter": {
   "hash": "076c4ab2a94d6530d87b700124164545302493637a60c32c41a7138ffa64fa6b"
  },
  "kernelspec": {
   "display_name": "Python 3.6.6 ('nv-conda')",
   "language": "python",
   "name": "python3"
  },
  "language_info": {
   "codemirror_mode": {
    "name": "ipython",
    "version": 3
   },
   "file_extension": ".py",
   "mimetype": "text/x-python",
   "name": "python",
   "nbconvert_exporter": "python",
   "pygments_lexer": "ipython3",
   "version": "3.6.6"
  },
  "orig_nbformat": 4
 },
 "nbformat": 4,
 "nbformat_minor": 2
}
